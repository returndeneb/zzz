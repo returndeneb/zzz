{
 "cells": [
  {
   "cell_type": "code",
   "execution_count": null,
   "metadata": {
    "vscode": {
     "languageId": "plaintext"
    }
   },
   "outputs": [],
   "source": [
    "import requests\n",
    "from bs4 import BeautifulSoup\n",
    "\n",
    "login_url = \"https://example.com/login\"\n",
    "crawl_url = \"https://example.com/target-page\"\n",
    "\n",
    "# 로그인 정보 입력\n",
    "payload = {\n",
    "    \"username\": \"your_username\",\n",
    "    \"password\": \"your_password\"\n",
    "}\n",
    "\n",
    "# 세션 유지\n",
    "session = requests.Session()\n",
    "session.post(login_url, data=payload)\n",
    "\n",
    "# 게시판 페이지 크롤링\n",
    "response = session.get(crawl_url)\n",
    "soup = BeautifulSoup(response.text, \"html.parser\")\n",
    "\n",
    "# 이미지 URL 추출\n",
    "image_tags = soup.find_all(\"img\")\n",
    "image_urls = [img[\"src\"] for img in image_tags if \"src\" in img.attrs]\n",
    "\n",
    "print(image_urls)\n"
   ]
  },
  {
   "cell_type": "code",
   "execution_count": null,
   "metadata": {
    "vscode": {
     "languageId": "plaintext"
    }
   },
   "outputs": [],
   "source": [
    "import requests\n",
    "from bs4 import BeautifulSoup\n",
    "\n",
    "login_url = \"https://arca.live/u/login\"\n",
    "crawl_url = \"https://example.com/target-page\"\n",
    "\n",
    "\n",
    "# 로그인 정보 입력\n",
    "payload = {\n",
    "    \"username\": \"your_username\",\n",
    "    \"password\": \"your_password\"\n",
    "}\n",
    "\n"
   ]
  }
 ],
 "metadata": {
  "language_info": {
   "name": "python"
  }
 },
 "nbformat": 4,
 "nbformat_minor": 2
}
